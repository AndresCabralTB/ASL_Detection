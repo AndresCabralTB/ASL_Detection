{
 "cells": [
  {
   "cell_type": "markdown",
   "id": "ea0c91ff-4646-480f-8101-c7b09d9aead9",
   "metadata": {},
   "source": [
    "### Store the images into an array\n",
    "## This code implements Laplacian filters (3/10/2023)"
   ]
  },
  {
   "cell_type": "markdown",
   "id": "a413b2f8-d4e3-4b6c-ac61-302bd56ab7c4",
   "metadata": {},
   "source": [
    "#### Standarize Images inside array"
   ]
  },
  {
   "cell_type": "code",
   "execution_count": null,
   "id": "da55b36d-1cb1-4ca3-a767-eeb71b46b163",
   "metadata": {},
   "outputs": [
    {
     "name": "stdout",
     "output_type": "stream",
     "text": [
      "Z728.jpg Brisque Score 1: 86.01658761121982 Brisque Score 2: 52.85430731525011\n",
      "Z729.jpg Brisque Score 1: 86.08716319567654 Brisque Score 2: 52.22090919581066\n",
      "Z715.jpg Brisque Score 1: 85.92436762196982 Brisque Score 2: 51.88712168097547\n"
     ]
    }
   ],
   "source": [
    "import os\n",
    "import cv2\n",
    "import numpy as np\n",
    "from brisque import BRISQUE\n",
    "\n",
    "# Specify the input folder containing the images\n",
    "input_folder1 = \"/Users/cabral/Dataset/Test_Folder\" #Images already divided in folders\n",
    "\n",
    "output_folder1 = \"/Users/cabral/Dataset/Enhanced\"\n",
    "os.makedirs(output_folder1, exist_ok=True)\n",
    "\n",
    "# Create a list of folder names for A to Z\n",
    "brisque_list = []\n",
    "new_brisque = []\n",
    "\n",
    "# Iterate through subfolders and files in the input folder\n",
    "for root, dirs, files in os.walk(input_folder1):\n",
    "    for filename in files:\n",
    "        if filename.endswith(\".jpg\"):  # Process only JPG files\n",
    "            image_path_p = os.path.join(root, filename)\n",
    "            image_p = cv2.imread(image_path_p)\n",
    "\n",
    "            ##############Standarize the images and get first brisque score ##############\n",
    "            \n",
    "            image_p = cv2.resize(image_p, (1500, 1500), interpolation=cv2.INTER_CUBIC) # Resize image to 1000x1000\n",
    "\n",
    "            image_p = cv2.resize(image_p, (1500, 1500), interpolation=cv2.INTER_CUBIC) # Resize image to 1000x1000\n",
    "            gamma = 2.0\n",
    "            # Apply gamma correction\n",
    "            gamma_corrected = np.power(image_p / 255.0, 1.0 / gamma)\n",
    "            gamma_corrected = (gamma_corrected * 255).astype(np.uint8)\n",
    "\n",
    "            image_his = cv2.cvtColor(gamma_corrected, cv2.COLOR_BGR2GRAY)\n",
    "            dst = cv2.equalizeHist(image_his)\n",
    "            dist_bgr = cv2.cvtColor(dst, cv2.COLOR_GRAY2BGR)\n",
    "                \n",
    "            brisque_score2 = obj.score(dist_bgr)\n",
    "            \n",
    "            #Append the value to an array\n",
    "            new_brisque.append(brisque_score2)\n",
    "\n",
    "            # Extract the letter folder name from the input folder path\n",
    "            folder_name = os.path.basename(root)\n",
    "            \n",
    "            # Create a corresponding subfolder in the output folder\n",
    "            output_subfolder = os.path.join(output_folder1, folder_name)\n",
    "            os.makedirs(output_subfolder, exist_ok=True)\n",
    "\n",
    "            # Generate the output path for the image in the subfolder\n",
    "            output_path1 = os.path.join(output_subfolder, filename)\n",
    "\n",
    "            # Save the processed image to the subfolder\n",
    "            cv2.imwrite(output_path1, bilateral )\n",
    "            print(f\"{filename}\" + f\" Brisque Score 2: {brisque_score2}\")\n",
    "\n",
    "print(\"Image Quality Assessment process ended\")\n",
    "\n",
    "print(\"Unaltered Brisque: \")\n",
    "\n",
    "b_max = max(brisque_list)\n",
    "print(\"\\nMaximum BRISQUE value: \" + str(b_max))\n",
    "\n",
    "b_min = min(brisque_list)\n",
    "print(\"Minimum BRISQUE value: \" + str(b_min))\n",
    "\n",
    "b_average = np.mean(brisque_list)\n",
    "print(\"Average BRISQUE value: \" + str(b_average))\n",
    "\n",
    "####### NEW BRISQUE SCORE#####\n",
    "print(\"New Brisque: \")\n",
    "\n",
    "b_max2 = max(new_brisque)\n",
    "print(\"\\nMaximum BRISQUE value: \" + str(b_max2))\n",
    "\n",
    "b_min2 = min(new_brisque)\n",
    "print(\"Minimum BRISQUE value: \" + str(b_min2))\n",
    "\n",
    "b_average2 = np.mean(new_brisque)\n",
    "print(\"Average BRISQUE value: \" + str(b_average2))\n"
   ]
  },
  {
   "cell_type": "code",
   "execution_count": null,
   "id": "290b281b-4b20-4474-98f7-d923b20760bf",
   "metadata": {},
   "outputs": [],
   "source": []
  }
 ],
 "metadata": {
  "kernelspec": {
   "display_name": "Python 3 (ipykernel)",
   "language": "python",
   "name": "python3"
  },
  "language_info": {
   "codemirror_mode": {
    "name": "ipython",
    "version": 3
   },
   "file_extension": ".py",
   "mimetype": "text/x-python",
   "name": "python",
   "nbconvert_exporter": "python",
   "pygments_lexer": "ipython3",
   "version": "3.11.5"
  }
 },
 "nbformat": 4,
 "nbformat_minor": 5
}
